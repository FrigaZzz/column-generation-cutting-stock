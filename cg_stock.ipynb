{
 "cells": [
  {
   "cell_type": "code",
   "execution_count": 71,
   "metadata": {},
   "outputs": [
    {
     "name": "stderr",
     "output_type": "stream",
     "text": [
      "c:\\Users\\User\\AppData\\Local\\Programs\\Python\\Python310\\lib\\site-packages\\pulp\\pulp.py:1352: UserWarning: Spaces are not permitted in the name. Converted to '_'\n",
      "  warnings.warn(\"Spaces are not permitted in the name. Converted to '_'\")\n"
     ]
    },
    {
     "name": "stdout",
     "output_type": "stream",
     "text": [
      "[0, 2, 0]\n",
      "[0, 2, 0]\n"
     ]
    }
   ],
   "source": [
    "# enable automatic reloading of imported modules.\n",
    "%reload_ext autoreload\n",
    "%autoreload 2"
   ]
  },
  {
   "cell_type": "code",
   "execution_count": 72,
   "metadata": {},
   "outputs": [],
   "source": [
    "from src.master import MasterProblem\n",
    "from src.slave import SlaveProblem\n",
    "from src.slave_he import GeneticAlgorithm\n",
    "from src.ISlave import *\n",
    "from pulp import *\n",
    "import numpy as np\n",
    "import csv\n",
    "import time"
   ]
  },
  {
   "attachments": {},
   "cell_type": "markdown",
   "metadata": {},
   "source": [
    " This code combines the genetic algorithm and the PuLP solver to solve an optimization problem related to axis cutting, with the goal of finding the optimal number of axes to cut. The genetic algorithm is used to generate patterns, and the PuLP solver is used to solve the master problem and obtain dual values for updating the patterns."
   ]
  },
  {
   "cell_type": "code",
   "execution_count": 73,
   "metadata": {},
   "outputs": [
    {
     "name": "stdout",
     "output_type": "stream",
     "text": [
      "Max Axis Length: 25\n",
      "Axis Lengths: [13, 16, 8, 18, 11, 15, 19, 17, 22, 9, 7, 21]\n",
      "Axis Demands: [17, 89, 12, 43, 79, 39, 19, 57, 68, 64, 29, 93]\n",
      "\n",
      "Axis types: 12\n",
      "\n"
     ]
    }
   ],
   "source": [
    "# Param Definition\n",
    "\n",
    "# Lettura delle istanze\n",
    "max_axis_length = 0\n",
    "axis_lengths = []\n",
    "axis_demands = []\n",
    "\n",
    "max_length = 25\n",
    "num_items =12\n",
    "file_name = f\"data/input_data_{max_length}_{num_items}.csv\"\n",
    "\n",
    "with open(file_name, newline='') as csvfile:\n",
    "    reader = csv.reader(csvfile, delimiter=',')\n",
    "    max_axis_length, *data = [list(map(int, row)) for row in reader]\n",
    "    \n",
    "max_axis_length = max_axis_length[0]\n",
    "axis_lengths = [row[0] for row in data]\n",
    "axis_demands = [row[1] for row in data]\n",
    "num_axes = len(axis_lengths)\n",
    "\n",
    "print(\"Max Axis Length: %s\" % max_axis_length)\n",
    "print(\"Axis Lengths: %s\" % axis_lengths)\n",
    "print(\"Axis Demands: %s\\n\" % axis_demands)\n",
    "print(\"Axis types: %s\\n\" % num_axes)\n"
   ]
  },
  {
   "attachments": {},
   "cell_type": "markdown",
   "metadata": {},
   "source": [
    "Il codice fornito implementa un approccio di risoluzione iterativa per un problema di ottimizzazione. Viene generata una soluzione iniziale in modo greedy, utilizzando una strategia che associa un asse per ciascuna richiesta con la lunghezza corrispondente. \n",
    "\n",
    "Successivamente, viene creato un oggetto `MasterProblem` con i parametri e i pattern iniziali forniti. Il problema viene risolto inizialmente in modalità rilassata.\n",
    "\n",
    "Il codice entra in un ciclo while che continua fino a quando il problema non è più in modalità rilassata. Ad ogni iterazione, il `masterProblem` viene risolto e vengono controllate le variabili duali ottenute per verificare eventuali cambiamenti. Se le variabili duali rimangono invariate, viene decrementato un contatore per le iterazioni consecutive senza cambiamenti ( di variabili duali) . Altrimenti, il contatore viene ripristinato a 100. Se ci sono ancora iterazioni consecutive senza cambiamenti, viene generato un nuovo pattern utilizzando il metodo `startSlave` del `masterProblem` e viene aggiunto al problema se esiste. \n",
    "\n",
    "Una volta che non ci sono più iterazioni consecutive senza cambiamenti, viene chiamato il metodo `setRelaxed` per impostare il problema in modalità non rilassata ( quindi riportandolo ad un PLI ). Il problema viene risolto nuovamente in questa modalità e il flag rilassato viene impostato su False, terminando il ciclo while.\n",
    "\n",
    "Viene calcolato e stampato il tempo di calcolo, il numero ottimale di assi da tagliare e il numero di iterazioni. Se `show_results` è True, vengono \n",
    "\n"
   ]
  },
  {
   "cell_type": "code",
   "execution_count": 74,
   "metadata": {},
   "outputs": [],
   "source": [
    "\n",
    "def runColumnGeneration(max_axis_length, axis_lengths, axis_demands, slaveType=SlaveProblem, debugMode=False):\n",
    "    # Generazione dei file .lp\n",
    "    SlaveProblem.it = 0\n",
    "    MasterProblem.it = 0\n",
    "    \n",
    "    start_time = time.time()\n",
    "\n",
    "    # Initial solution (greedy):\n",
    "    # - Use one axes for each demand of that axes length\n",
    "    # - Start with a poor solution and expect the total required axes to decrease\n",
    "    patterns = []\n",
    "    for i in range(num_axes):\n",
    "        pattern = np.zeros(num_axes)\n",
    "        pattern[i] = 1\n",
    "        patterns.append(pattern)\n",
    "\n",
    "    masterProblem = MasterProblem(max_axis_length, axis_lengths, axis_demands, patterns, slaveType,writeLP=True)\n",
    "\n",
    "    relaxed = True\n",
    "    iteration = 0\n",
    "    max_iterations = 1000\n",
    "    consecutive_unchanged_duals = 15\n",
    "    old_duals = []\n",
    "\n",
    "    while relaxed and iteration < max_iterations:\n",
    "        duals = masterProblem.solve()\n",
    "        status = masterProblem.getStatus()\n",
    "        if(status =='Infeasible'):\n",
    "            print(\"The problem is Infeasible, stopping now\")\n",
    "            return\n",
    "            \n",
    "\n",
    "        if old_duals == duals:\n",
    "            consecutive_unchanged_duals -= 1\n",
    "        else:\n",
    "            consecutive_unchanged_duals = 15\n",
    "        if consecutive_unchanged_duals > 0:\n",
    "            newPattern = masterProblem.startSlave(duals)\n",
    "           \n",
    "            if newPattern:\n",
    "                masterProblem.addPattern(newPattern)\n",
    "                if(debugMode):\n",
    "                    print(\"New duals\", duals)\n",
    "                    print(\"New pattern added\", newPattern)\n",
    "        else:\n",
    "            masterProblem.setRelaxed(False)\n",
    "            masterProblem.solve()\n",
    "            relaxed = False\n",
    "\n",
    "        old_duals = duals\n",
    "        iteration += 1\n",
    "\n",
    "    end_time = time.time()\n",
    "    seconds = end_time - start_time\n",
    "\n",
    "\n",
    "    optimal = masterProblem.getComputedOptimal()\n",
    "    print(\"Optimal: %s axes to cut\" % optimal)\n",
    "    print(\"Found in %s iterations\" % iteration)\n",
    "    print(\"Computational time: %s seconds\" % seconds)\n",
    "    if(debugMode):\n",
    "        for pattern in masterProblem.getUsedPatterns():\n",
    "            print(\"%s used %s times\" % (pattern[1], pattern[0]))\n",
    "    return  masterProblem.getUsedPatterns()\n"
   ]
  },
  {
   "attachments": {},
   "cell_type": "markdown",
   "metadata": {},
   "source": [
    "In questo primo TEST verrà eseguito  `startSlave` su una istanza di 'GeneticAlgorithm'\n",
    "L'algoritmo genetico e il solver PuLP sono quindi utilizzati per risolvere problema di ottimizzazione legato al taglio degli assi, con l'obiettivo di trovare il numero ottimale di assi da tagliare. L'algoritmo genetico viene utilizzato per generare i pattern, mentre il solver PuLP viene utilizzato per risolvere il problema principale e ottenere i valori duali per l'aggiornamento dei pattern."
   ]
  },
  {
   "cell_type": "code",
   "execution_count": 75,
   "metadata": {},
   "outputs": [
    {
     "name": "stdout",
     "output_type": "stream",
     "text": [
      "New duals [1.0, 1.0, 1.0, 1.0, 1.0, 1.0, 1.0, 1.0, 1.0, 1.0, 1.0, 1.0]\n",
      "New pattern added [0, 0, 0, 0, 0, 0, 0, 0, 0, 0, 3, 0]\n",
      "New duals [1.0, 1.0, 1.0, 1.0, 1.0, 1.0, 1.0, 1.0, 1.0, 1.0, 0.33333333, 1.0]\n",
      "New pattern added [0, 0, 3, 0, 0, 0, 0, 0, 0, 0, 0, 0]\n",
      "New duals [1.0, 1.0, 0.33333333, 1.0, 1.0, 1.0, 1.0, 1.0, 1.0, 1.0, 0.33333333, 1.0]\n",
      "New pattern added [0, 0, 0, 0, 0, 0, 0, 0, 0, 2, 1, 0]\n",
      "New duals [1.0, 1.0, 0.33333333, 1.0, 1.0, 1.0, 1.0, 1.0, 1.0, 0.5, 0.0, 1.0]\n",
      "New pattern added [0, 0, 0, 0, 2, 0, 0, 0, 0, 0, 0, 0]\n",
      "New duals [1.0, 1.0, 0.33333333, 1.0, 0.5, 1.0, 1.0, 1.0, 1.0, 0.5, 0.0, 1.0]\n",
      "New pattern added [1, 0, 0, 0, 1, 0, 0, 0, 0, 0, 0, 0]\n",
      "New duals [0.5, 1.0, 0.33333333, 1.0, 0.5, 1.0, 1.0, 1.0, 1.0, 0.5, 0.0, 1.0]\n",
      "New pattern added [0, 0, 0, 0, 0, 1, 0, 0, 0, 1, 0, 0]\n",
      "New duals [0.5, 1.0, 0.33333333, 1.0, 0.5, 0.66666667, 1.0, 1.0, 1.0, 0.33333333, 0.33333333, 1.0]\n",
      "New pattern added [0, 0, 0, 1, 0, 0, 0, 0, 0, 0, 1, 0]\n",
      "New duals [0.5, 1.0, 0.33333333, 1.0, 0.5, 0.5, 1.0, 1.0, 1.0, 0.5, 0.0, 1.0]\n",
      "New pattern added [0, 1, 0, 0, 0, 0, 0, 0, 0, 1, 0, 0]\n",
      "New duals [0.5, 1.0, 0.33333333, 1.0, 0.5, 1.0, 1.0, 1.0, 1.0, 0.0, 0.0, 1.0]\n",
      "New pattern added [0, 0, 1, 0, 0, 1, 0, 0, 0, 0, 0, 0]\n",
      "Optimal: 456 axes to cut\n",
      "Found in 26 iterations\n",
      "Computational time: 0.4471004009246826 seconds\n",
      "[0. 1. 0. 0. 0. 0. 0. 0. 0. 0. 0. 0.] used 25.0 times\n",
      "[0. 0. 0. 1. 0. 0. 0. 0. 0. 0. 0. 0.] used 14.0 times\n",
      "[0. 0. 0. 0. 0. 1. 0. 0. 0. 0. 0. 0.] used 27.0 times\n",
      "[0. 0. 0. 0. 0. 0. 1. 0. 0. 0. 0. 0.] used 19.0 times\n",
      "[0. 0. 0. 0. 0. 0. 0. 1. 0. 0. 0. 0.] used 57.0 times\n",
      "[0. 0. 0. 0. 0. 0. 0. 0. 1. 0. 0. 0.] used 68.0 times\n",
      "[0. 0. 0. 0. 0. 0. 0. 0. 0. 0. 0. 1.] used 93.0 times\n",
      "[0, 0, 0, 0, 2, 0, 0, 0, 0, 0, 0, 0] used 31.0 times\n",
      "[1, 0, 0, 0, 1, 0, 0, 0, 0, 0, 0, 0] used 17.0 times\n",
      "[0, 0, 0, 1, 0, 0, 0, 0, 0, 0, 1, 0] used 29.0 times\n",
      "[0, 1, 0, 0, 0, 0, 0, 0, 0, 1, 0, 0] used 64.0 times\n",
      "[0, 0, 1, 0, 0, 1, 0, 0, 0, 0, 0, 0] used 12.0 times\n"
     ]
    }
   ],
   "source": [
    "genPatterns = runColumnGeneration(max_axis_length, axis_lengths, axis_demands, GeneticAlgorithm,debugMode=True,)\n"
   ]
  },
  {
   "attachments": {},
   "cell_type": "markdown",
   "metadata": {},
   "source": [
    "In questo TEST verrà eseguito  `startSlave` su una istanza di 'Pulp Solver CBC ' (COIN-OR branch and cut)\n"
   ]
  },
  {
   "cell_type": "code",
   "execution_count": 76,
   "metadata": {},
   "outputs": [
    {
     "name": "stdout",
     "output_type": "stream",
     "text": [
      "New duals [1.0, 1.0, 1.0, 1.0, 1.0, 1.0, 1.0, 1.0, 1.0, 1.0, 1.0, 1.0]\n",
      "New pattern added [0, 0, 1, 0, 0, 0, 0, 0, 0, 0, 2, 0]\n",
      "New duals [1.0, 1.0, 0.0, 1.0, 1.0, 1.0, 1.0, 1.0, 1.0, 1.0, 0.5, 1.0]\n",
      "New pattern added [0, 0, 0, 0, 0, 0, 0, 0, 0, 2, 1, 0]\n",
      "New duals [1.0, 1.0, 1.0, 1.0, 1.0, 1.0, 1.0, 1.0, 1.0, 0.5, 0.0, 1.0]\n",
      "New pattern added [0, 0, 3, 0, 0, 0, 0, 0, 0, 0, 0, 0]\n",
      "New duals [1.0, 1.0, 0.33333333, 1.0, 1.0, 1.0, 1.0, 1.0, 1.0, 0.5, 0.0, 1.0]\n",
      "New pattern added [0, 0, 0, 0, 2, 0, 0, 0, 0, 0, 0, 0]\n",
      "New duals [1.0, 1.0, 0.33333333, 1.0, 0.5, 1.0, 1.0, 1.0, 1.0, 0.5, 0.0, 1.0]\n",
      "New pattern added [1, 0, 0, 0, 0, 0, 0, 0, 0, 1, 0, 0]\n",
      "New duals [0.66666667, 1.0, 0.33333333, 1.0, 0.5, 1.0, 1.0, 1.0, 1.0, 0.33333333, 0.33333333, 1.0]\n",
      "New pattern added [0, 0, 0, 0, 0, 1, 0, 0, 0, 0, 1, 0]\n",
      "New duals [0.5, 1.0, 0.33333333, 1.0, 0.5, 1.0, 1.0, 1.0, 1.0, 0.5, 0.0, 1.0]\n",
      "New pattern added [0, 0, 0, 0, 0, 1, 0, 0, 0, 1, 0, 0]\n",
      "New duals [0.66666667, 1.0, 0.33333333, 1.0, 0.5, 0.66666667, 1.0, 1.0, 1.0, 0.33333333, 0.33333333, 1.0]\n",
      "New pattern added [0, 1, 0, 0, 0, 0, 0, 0, 0, 0, 1, 0]\n",
      "New duals [0.5, 1.0, 0.33333333, 1.0, 0.5, 0.5, 1.0, 1.0, 1.0, 0.5, 0.0, 1.0]\n",
      "New pattern added [0, 1, 0, 0, 0, 0, 0, 0, 0, 1, 0, 0]\n",
      "New duals [1.0, 1.0, 0.33333333, 1.0, 0.5, 1.0, 1.0, 1.0, 1.0, 0.0, 0.0, 1.0]\n",
      "New pattern added [1, 0, 0, 0, 1, 0, 0, 0, 0, 0, 0, 0]\n",
      "New duals [0.5, 1.0, 0.33333333, 1.0, 0.5, 1.0, 1.0, 1.0, 1.0, 0.0, 0.0, 1.0]\n",
      "New pattern added [0, 1, 1, 0, 0, 0, 0, 0, 0, 0, 0, 0]\n",
      "Optimal: 456 axes to cut\n",
      "Found in 27 iterations\n",
      "Computational time: 0.9032034873962402 seconds\n",
      "[0. 0. 0. 1. 0. 0. 0. 0. 0. 0. 0. 0.] used 43.0 times\n",
      "[0. 0. 0. 0. 0. 1. 0. 0. 0. 0. 0. 0.] used 23.0 times\n",
      "[0. 0. 0. 0. 0. 0. 1. 0. 0. 0. 0. 0.] used 19.0 times\n",
      "[0. 0. 0. 0. 0. 0. 0. 1. 0. 0. 0. 0.] used 57.0 times\n",
      "[0. 0. 0. 0. 0. 0. 0. 0. 1. 0. 0. 0.] used 68.0 times\n",
      "[0. 0. 0. 0. 0. 0. 0. 0. 0. 0. 0. 1.] used 93.0 times\n",
      "[0, 0, 0, 0, 2, 0, 0, 0, 0, 0, 0, 0] used 31.0 times\n",
      "[0, 0, 0, 0, 0, 1, 0, 0, 0, 1, 0, 0] used 16.0 times\n",
      "[0, 1, 0, 0, 0, 0, 0, 0, 0, 0, 1, 0] used 29.0 times\n",
      "[0, 1, 0, 0, 0, 0, 0, 0, 0, 1, 0, 0] used 48.0 times\n",
      "[1, 0, 0, 0, 1, 0, 0, 0, 0, 0, 0, 0] used 17.0 times\n",
      "[0, 1, 1, 0, 0, 0, 0, 0, 0, 0, 0, 0] used 12.0 times\n"
     ]
    }
   ],
   "source": [
    "cbcPatterns = runColumnGeneration(max_axis_length, axis_lengths, axis_demands, SlaveProblem,debugMode=True)\n"
   ]
  },
  {
   "attachments": {},
   "cell_type": "markdown",
   "metadata": {},
   "source": [
    "Formulazione 'PLI' del problema "
   ]
  },
  {
   "cell_type": "code",
   "execution_count": 77,
   "metadata": {},
   "outputs": [
    {
     "name": "stdout",
     "output_type": "stream",
     "text": [
      "Status: Optimal\n",
      "Optimal number of axes to cut: 609.0\n",
      "Used patterns:\n",
      "Pattern 0 used 17.0 times\n",
      "Pattern 1 used 89.0 times\n",
      "Pattern 2 used 12.0 times\n",
      "Pattern 3 used 43.0 times\n",
      "Pattern 4 used 79.0 times\n",
      "Pattern 5 used 39.0 times\n",
      "Pattern 6 used 19.0 times\n",
      "Pattern 7 used 57.0 times\n",
      "Pattern 8 used 68.0 times\n",
      "Pattern 9 used 64.0 times\n",
      "Pattern 10 used 29.0 times\n",
      "Pattern 11 used 93.0 times\n"
     ]
    },
    {
     "data": {
      "text/plain": [
       "[Pattern_0,\n",
       " Pattern_1,\n",
       " Pattern_10,\n",
       " Pattern_11,\n",
       " Pattern_2,\n",
       " Pattern_3,\n",
       " Pattern_4,\n",
       " Pattern_5,\n",
       " Pattern_6,\n",
       " Pattern_7,\n",
       " Pattern_8,\n",
       " Pattern_9]"
      ]
     },
     "execution_count": 77,
     "metadata": {},
     "output_type": "execute_result"
    }
   ],
   "source": [
    "# Creazione del problema\n",
    "prob = LpProblem(\"1D-Stock-Cut\", LpMinimize)\n",
    "\n",
    "# Variabili di decisione\n",
    "pattern_vars = LpVariable.dicts(\"Pattern\", range(len(axis_lengths)), 0, None, LpInteger)\n",
    "\n",
    "# Funzione obiettivo\n",
    "prob += lpSum(pattern_vars)\n",
    "\n",
    "# Vincoli\n",
    "for i in range(len(axis_lengths)):\n",
    "    prob += axis_lengths[i] * pattern_vars[i] >= max_axis_length\n",
    "\n",
    "for i in range(len(axis_lengths)):\n",
    "    prob += pattern_vars[i] >= axis_demands[i]\n",
    "\n",
    "# Risoluzione del problema\n",
    "prob.solve()\n",
    "\n",
    "# Stampa della soluzione\n",
    "print(\"Status:\", LpStatus[prob.status])\n",
    "print(\"Optimal number of axes to cut:\", value(prob.objective))\n",
    "\n",
    "# Stampa dei pattern utilizzati\n",
    "used_patterns = []\n",
    "for i in range(len(axis_lengths)):\n",
    "    if value(pattern_vars[i]) > 0:\n",
    "        used_patterns.append((value(pattern_vars[i]), i))\n",
    "\n",
    "print(\"Used patterns:\")\n",
    "for pattern in used_patterns:\n",
    "    print(\"Pattern\", pattern[1], \"used\", pattern[0], \"times\")\n",
    "\n",
    "prob.writeLP('models/pli/prob.lp')\n"
   ]
  },
  {
   "cell_type": "code",
   "execution_count": 78,
   "metadata": {},
   "outputs": [
    {
     "name": "stdout",
     "output_type": "stream",
     "text": [
      "Total patterns cbcPatterns 12\n",
      "Total patterns genPatterns 12\n",
      "Common 9\n"
     ]
    },
    {
     "data": {
      "image/png": "[encoded data removed]",
      "text/plain": [
       "<Figure size 640x480 with 1 Axes>"
      ]
     },
     "metadata": {},
     "output_type": "display_data"
    }
   ],
   "source": [
    "import matplotlib.pyplot as plt\n",
    "\n",
    "def plotData(patterns_model1,patterns_model2):\n",
    "\n",
    "    common_patterns = set([tuple(pattern) for (_, pattern) in patterns_model1]).intersection(set([tuple(pattern) for    (_, pattern) in patterns_model2]))\n",
    "    print(\"Common\",len(common_patterns))\n",
    "\n",
    "    freq_model1 = {tuple(pattern): freq for (freq, pattern) in patterns_model1}\n",
    "    freq_model2 = {tuple(pattern): freq for (freq, pattern) in patterns_model2}\n",
    "\n",
    "    pattern_labels = [str(pattern) for pattern in common_patterns]\n",
    "    freq_comparison = [freq_model2[pattern] - freq_model1[pattern] for pattern in common_patterns]\n",
    "\n",
    "    plt.barh(pattern_labels, freq_comparison)\n",
    "    plt.xlabel('Frequency Comparison')\n",
    "    plt.ylabel('Pattern')\n",
    "    plt.title('Frequency Comparison between cbcPatterns and genPatterns for Common Patterns')\n",
    "    plt.show()\n",
    "print(\"Total patterns cbcPatterns\", len(cbcPatterns))\n",
    "print(\"Total patterns genPatterns\", len(genPatterns))\n",
    "\n",
    "plotData(cbcPatterns,genPatterns)\n"
   ]
  }
 ],
 "metadata": {
  "kernelspec": {
   "display_name": "venv",
   "language": "python",
   "name": "python3"
  },
  "language_info": {
   "codemirror_mode": {
    "name": "ipython",
    "version": 3
   },
   "file_extension": ".py",
   "mimetype": "text/x-python",
   "name": "python",
   "nbconvert_exporter": "python",
   "pygments_lexer": "ipython3",
   "version": "3.10.11"
  },
  "orig_nbformat": 4
 },
 "nbformat": 4,
 "nbformat_minor": 2
}
