{
 "cells": [
  {
   "cell_type": "code",
   "execution_count": 2,
   "metadata": {},
   "outputs": [],
   "source": [
    "import pulp\n"
   ]
  },
  {
   "attachments": {},
   "cell_type": "markdown",
   "metadata": {},
   "source": [
    "Definizione del problema di ottimizzazione:\n",
    "Per definire un problema di ottimizzazione, è necessario definire le variabili decisionali, la funzione obiettivo e le restrizioni. Ad esempio, il seguente codice definisce un problema di ottimizzazione lineare:"
   ]
  },
  {
   "cell_type": "code",
   "execution_count": 3,
   "metadata": {},
   "outputs": [],
   "source": [
    "# Definizione del problema di ottimizzazione\n",
    "prob = pulp.LpProblem('Problema', pulp.LpMinimize)\n",
    "\n",
    "# Definizione delle variabili decisionali\n",
    "x = pulp.LpVariable('x', lowBound=0, cat='Continuous')\n",
    "y = pulp.LpVariable('y', lowBound=0, cat='Continuous')\n",
    "\n",
    "# Definizione della funzione obiettivo\n",
    "prob += x + y\n",
    "\n",
    "# Definizione delle restrizioni\n",
    "prob += x + 2 * y >= 1\n",
    "prob += 2 * x + y >= 1"
   ]
  },
  {
   "cell_type": "code",
   "execution_count": 4,
   "metadata": {},
   "outputs": [
    {
     "data": {
      "text/plain": [
       "Problema:\n",
       "MINIMIZE\n",
       "1*x + 1*y + 0\n",
       "SUBJECT TO\n",
       "_C1: x + 2 y >= 1\n",
       "\n",
       "_C2: 2 x + y >= 1\n",
       "\n",
       "VARIABLES\n",
       "x Continuous\n",
       "y Continuous"
      ]
     },
     "execution_count": 4,
     "metadata": {},
     "output_type": "execute_result"
    }
   ],
   "source": [
    "prob"
   ]
  },
  {
   "cell_type": "code",
   "execution_count": 5,
   "metadata": {},
   "outputs": [
    {
     "name": "stdout",
     "output_type": "stream",
     "text": [
      "x = 0.33333333\n",
      "y = 0.33333333\n",
      "valore della funzione obiettivo = 0.66666666\n"
     ]
    }
   ],
   "source": [
    "# Risoluzione del problema di ottimizzazione\n",
    "prob.solve()\n",
    "\n",
    "# Stampa del risultato\n",
    "print('x =', x.value())\n",
    "print('y =', y.value())\n",
    "print('valore della funzione obiettivo =', prob.objective.value())\n"
   ]
  },
  {
   "attachments": {},
   "cell_type": "markdown",
   "metadata": {},
   "source": [
    "LpProblem\n",
    "La creazione di un problema di programmazione lineare con Pulp inizia con la definizione di un nuovo oggetto LpProblem. La sintassi di base è la seguente:"
   ]
  },
  {
   "cell_type": "code",
   "execution_count": 6,
   "metadata": {},
   "outputs": [
    {
     "name": "stderr",
     "output_type": "stream",
     "text": [
      "c:\\Users\\User\\AppData\\Local\\Programs\\Python\\Python310\\lib\\site-packages\\pulp\\pulp.py:1352: UserWarning: Spaces are not permitted in the name. Converted to '_'\n",
      "  warnings.warn(\"Spaces are not permitted in the name. Converted to '_'\")\n"
     ]
    }
   ],
   "source": [
    "import pulp\n",
    "\n",
    "# Creazione di un nuovo problema di programmazione lineare\n",
    "# nome: Nome del problema\n",
    "# sense: Indica se il problema è di massimizzazione o minimizzazione (LpMaximize o LpMinimize)\n",
    "problem = pulp.LpProblem(name=\"lp problem\", sense=pulp.LpMinimize)\n"
   ]
  },
  {
   "attachments": {},
   "cell_type": "markdown",
   "metadata": {},
   "source": [
    "LpVariable\n",
    "Le variabili di un problema di programmazione lineare possono essere create utilizzando la classe LpVariable. La sintassi di base è la seguente:\n",
    "I parametri disponibili per LpVariable sono:\n",
    "\n",
    "- name: una stringa che rappresenta il nome della variabile. Il parametro è opzionale e se non viene specificato, Pulp assegna un nome di default.\n",
    "\n",
    "- lowBound: un valore numerico che rappresenta il limite inferiore della variabile. Questo parametro è opzionale e il valore di default è -inf (meno infinito).\n",
    "\n",
    "- upBound: un valore numerico che rappresenta il limite superiore della variabile. Questo parametro è opzionale e il valore di default è inf (più infinito).\n",
    "\n",
    "- cat: una stringa che rappresenta la categoria della variabile. Le opzioni disponibili sono:\n",
    "\n",
    "  - 'Continuous': variabile continua (valore predefinito)\n",
    "  - 'Integer': variabile intera\n",
    "  - 'Binary': variabile binaria"
   ]
  },
  {
   "cell_type": "code",
   "execution_count": 7,
   "metadata": {},
   "outputs": [],
   "source": [
    "# Creazione di una nuova variabile\n",
    "# name: Nome della variabile\n",
    "# lowBound: Limite inferiore (opzionale, default è -inf)\n",
    "# upBound: Limite superiore (opzionale, default è inf)\n",
    "# cat: Categoria della variabile (opzionale, default è 'Continuous')\n",
    "# Creazione di una variabile continua con nome 'x'\n",
    "x = pulp.LpVariable('x')\n",
    "\n",
    "# Creazione di una variabile continua con nome 'y' e limiti inferiori e superiori\n",
    "y = pulp.LpVariable('y', lowBound=0, upBound=10)\n",
    "\n",
    "# Creazione di una variabile intera con nome 'z' e limite inferiore\n",
    "z = pulp.LpVariable('z', lowBound=1, cat='Integer')\n",
    "\n",
    "# Creazione di una variabile binaria con nome 'w'\n",
    "w = pulp.LpVariable('w', cat='Binary')\n"
   ]
  },
  {
   "attachments": {},
   "cell_type": "markdown",
   "metadata": {},
   "source": [
    "La classe `LpConstraint` di PuLP viene utilizzata per definire vincoli lineari. PuLP offre una vasta gamma di funzioni per la creazione di vincoli, tra cui `LpAffineExpression`, `LpAffineExpression`, `LpConstraintVar`, `LpConstraint`, `LpConstraintEQ`, `LpConstraintNE`, `LpConstraintLE`, e `LpConstraintGE`.\n",
    "\n",
    "Per creare un vincolo lineare con `LpConstraint`, è necessario specificare il nome del vincolo, la funzione che rappresenta il lato sinistro del vincolo, l'operatore di confronto e il valore del lato destro del vincolo.\n",
    "\n",
    "Ad esempio, per creare il vincolo `x + y <= 5` in PuLP, è possibile utilizzare il seguente codice:\n",
    "\n",
    "\n",
    "\n",
    "\n",
    "\n"
   ]
  },
  {
   "cell_type": "code",
   "execution_count": 8,
   "metadata": {},
   "outputs": [
    {
     "name": "stdout",
     "output_type": "stream",
     "text": [
      "Stato: Optimal\n",
      "x = 5.0\n",
      "y = 0.0\n"
     ]
    }
   ],
   "source": [
    "from pulp import LpVariable, LpProblem, LpConstraint, LpStatus, LpMaximize\n",
    "\n",
    "# Creazione del problema di ottimizzazione\n",
    "prob = LpProblem(\"Esempio di problema\", LpMaximize)\n",
    "\n",
    "# Definizione delle variabili decisionali\n",
    "x = LpVariable(\"x\", lowBound=0, cat='Continuous')\n",
    "y = LpVariable(\"y\", lowBound=0, cat='Continuous')\n",
    "\n",
    "# Definizione del vincolo lineare\n",
    "vincolo = LpConstraint(x + y, sense=1, rhs=5, name=\"vincolo_1\")\n",
    "\n",
    "# Aggiunta del vincolo al problema di ottimizzazione\n",
    "prob += vincolo\n",
    "\n",
    "# Risoluzione del problema di ottimizzazione\n",
    "prob.solve()\n",
    "\n",
    "# Stampa dello stato del problema di ottimizzazione\n",
    "print(\"Stato:\", LpStatus[prob.status])\n",
    "\n",
    "# Stampa del valore ottimale delle variabili decisionali\n",
    "print(\"x =\", x.varValue)\n",
    "print(\"y =\", y.varValue)\n"
   ]
  },
  {
   "attachments": {},
   "cell_type": "markdown",
   "metadata": {},
   "source": [
    "In questo esempio, la funzione `LpConstraint` viene utilizzata per definire il vincolo lineare. La funzione `LpConstraint` richiede tre parametri: l'espressione lineare (nel nostro caso, `x + y`), l'operatore di confronto (1 per `<=`) e il valore del lato destro del vincolo (5). Il parametro `name` viene utilizzato per assegnare un nome al vincolo.\n",
    "\n",
    "Per definire vincoli più complessi, PuLP offre anche la classe `LpAffineExpression`, che consente di creare espressioni lineari composte da variabili e costanti. Ad esempio, la seguente espressione rappresenta il lato sinistro del vincolo `3x + 2y >= 4`:\n",
    "\n",
    "In questo esempio, la funzione `LpAffineExpression` viene utilizzata per creare l'espressione lineare `3x + 2y`, con un termine costante di `4`. L'espressione viene quindi utilizzata per definire il vincolo"
   ]
  },
  {
   "cell_type": "code",
   "execution_count": 9,
   "metadata": {},
   "outputs": [],
   "source": [
    "from pulp import LpAffineExpression, LpVariable\n",
    "\n",
    "# Definizione delle variabili decisionali\n",
    "x = LpVariable(\"x\", lowBound=0, cat='Continuous')\n",
    "y = LpVariable(\"y\", lowBound=0, cat='Continuous')\n",
    "\n",
    "# Definizione dell'espressione lineare\n",
    "expr = LpAffineExpression([(x, 3), (y, 2)], constant=4)\n",
    "\n",
    "# Definizione del vincolo lineare\n",
    "vincolo = expr >= 4"
   ]
  },
  {
   "attachments": {},
   "cell_type": "markdown",
   "metadata": {},
   "source": [
    "Ecco alcuni altri aspetti importanti da considerare riguardo a Pulp:\n",
    "\n",
    "- **Risoluzione del problema**: dopo aver definito il problema e i suoi vincoli, è necessario risolverlo per ottenere una soluzione. Per fare ciò, è possibile utilizzare il metodo `solve()` del modello creato con `LpProblem`. Questo metodo restituisce un valore intero che indica lo stato della soluzione. Ad esempio, `LpStatusOptimal` indica che è stata trovata una soluzione ottimale, `LpStatusInfeasible` indica che il problema è impossibile da risolvere, `LpStatusUnbounded` indica che il problema è illimitato e `LpStatusNotSolved` indica che il problema non è stato ancora risolto.\n",
    "\n"
   ]
  },
  {
   "cell_type": "code",
   "execution_count": 10,
   "metadata": {},
   "outputs": [
    {
     "data": {
      "text/plain": [
       "True"
      ]
     },
     "execution_count": 10,
     "metadata": {},
     "output_type": "execute_result"
    }
   ],
   "source": [
    "from pulp import *\n",
    "\n",
    "x = LpVariable('x', lowBound=0)\n",
    "y = LpVariable('y', lowBound=0)\n",
    "\n",
    "prob = LpProblem('example', LpMaximize)\n",
    "prob += x + y <= 10\n",
    "prob += x + y >= 20\n",
    "\n",
    "# Pulp solleverà un'eccezione perché i vincoli sono contraddittori\n",
    "prob.solve()\n",
    "prob.status == LpStatusInfeasible"
   ]
  },
  {
   "attachments": {},
   "cell_type": "markdown",
   "metadata": {},
   "source": [
    "- **Recupero dei risultati**: dopo aver risolto il problema, è possibile accedere ai valori delle variabili con il metodo `value()` di ogni variabile. Ad esempio, se `x` è una variabile definita come `LpVariable('x', lowBound=0, cat='Continuous')`, è possibile accedere al suo valore con `x.value()`.\n",
    "\n"
   ]
  },
  {
   "cell_type": "code",
   "execution_count": 11,
   "metadata": {},
   "outputs": [
    {
     "data": {
      "text/plain": [
       "20.0"
      ]
     },
     "execution_count": 11,
     "metadata": {},
     "output_type": "execute_result"
    }
   ],
   "source": [
    "x.value()"
   ]
  },
  {
   "attachments": {},
   "cell_type": "markdown",
   "metadata": {},
   "source": [
    "- **Modifica di vincoli e obiettivi**: una volta definito il problema, è possibile modificare i suoi vincoli e il suo obiettivo in modo dinamico. Ad esempio, se si vuole aggiungere un nuovo vincolo, è possibile utilizzare il metodo `addConstraint()` del modello. Se si vuole modificare il coefficiente di una variabile nell'obiettivo, è possibile utilizzare l'attributo `obj` della variabile stessa.\n",
    "."
   ]
  },
  {
   "cell_type": "code",
   "execution_count": null,
   "metadata": {},
   "outputs": [],
   "source": []
  },
  {
   "attachments": {},
   "cell_type": "markdown",
   "metadata": {},
   "source": [
    "\n",
    "- **Altro**: Pulp supporta anche altri tipi di variabili oltre a quelle continue e intere, come le variabili binarie (`cat='Binary'`) e quelle intere con un limite superiore (`cat='Integer', upBound=10`). Inoltre, Pulp offre la possibilità di esportare il modello in diversi formati (ad esempio, MPS, LP o JSON) utilizzando il metodo `writeLP()`"
   ]
  },
  {
   "cell_type": "code",
   "execution_count": null,
   "metadata": {},
   "outputs": [],
   "source": []
  },
  {
   "attachments": {},
   "cell_type": "markdown",
   "metadata": {},
   "source": []
  }
 ],
 "metadata": {
  "kernelspec": {
   "display_name": ".venv",
   "language": "python",
   "name": "python3"
  },
  "language_info": {
   "codemirror_mode": {
    "name": "ipython",
    "version": 3
   },
   "file_extension": ".py",
   "mimetype": "text/x-python",
   "name": "python",
   "nbconvert_exporter": "python",
   "pygments_lexer": "ipython3",
   "version": "3.10.11"
  },
  "orig_nbformat": 4
 },
 "nbformat": 4,
 "nbformat_minor": 2
}
